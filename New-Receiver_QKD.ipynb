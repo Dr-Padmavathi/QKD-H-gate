{
 "cells": [
  {
   "cell_type": "code",
   "execution_count": 48,
   "id": "7569a737-2495-473d-bbee-e3e575c6ec2d",
   "metadata": {
    "tags": []
   },
   "outputs": [],
   "source": [
    "import qiskit"
   ]
  },
  {
   "cell_type": "code",
   "execution_count": 49,
   "id": "38a68cc4-51cd-4720-8aaa-0743c11aafc6",
   "metadata": {
    "tags": []
   },
   "outputs": [],
   "source": [
    "from qiskit import*"
   ]
  },
  {
   "cell_type": "code",
   "execution_count": 50,
   "id": "f7d50620-8032-4f36-9bab-c5db8ff55c79",
   "metadata": {
    "tags": []
   },
   "outputs": [],
   "source": [
    "from qiskit.tools.visualization import plot_bloch_multivector"
   ]
  },
  {
   "cell_type": "code",
   "execution_count": 51,
   "id": "d928b325-075e-48d7-a168-71ce1d0654d2",
   "metadata": {
    "tags": []
   },
   "outputs": [],
   "source": [
    "qr=QuantumRegister(6)"
   ]
  },
  {
   "cell_type": "code",
   "execution_count": 52,
   "id": "3e6896c3-e435-47f4-a9e2-0ad59c2350c4",
   "metadata": {
    "tags": []
   },
   "outputs": [],
   "source": [
    "cr=ClassicalRegister(6)"
   ]
  },
  {
   "cell_type": "code",
   "execution_count": 53,
   "id": "60f2ed3c-3557-440d-a0ed-5f0462d0741a",
   "metadata": {
    "tags": []
   },
   "outputs": [],
   "source": [
    "circuit=QuantumCircuit(qr,cr)"
   ]
  },
  {
   "cell_type": "code",
   "execution_count": 54,
   "id": "958058f4-8177-4710-8035-3d8ce7f0983d",
   "metadata": {
    "tags": []
   },
   "outputs": [
    {
     "data": {
      "text/plain": [
       "<qiskit.circuit.instructionset.InstructionSet at 0x7fa370113700>"
      ]
     },
     "execution_count": 54,
     "metadata": {},
     "output_type": "execute_result"
    }
   ],
   "source": [
    "circuit.h(0)"
   ]
  },
  {
   "cell_type": "code",
   "execution_count": 55,
   "id": "884fc078-72c2-4153-8c4b-bc693212e616",
   "metadata": {
    "tags": []
   },
   "outputs": [],
   "source": [
    "simulator=Aer.get_backend('statevector_simulator')"
   ]
  },
  {
   "cell_type": "code",
   "execution_count": 56,
   "id": "78a221e9-0db3-440b-ad75-6ef1189bee4b",
   "metadata": {
    "tags": []
   },
   "outputs": [],
   "source": [
    "result=execute(circuit,backend=simulator).result()"
   ]
  },
  {
   "cell_type": "code",
   "execution_count": 57,
   "id": "a390d48a-e453-44fb-98d3-0488bf562b11",
   "metadata": {
    "tags": []
   },
   "outputs": [],
   "source": [
    "statevector=result.get_statevector()"
   ]
  },
  {
   "cell_type": "code",
   "execution_count": 58,
   "id": "12ec2a50-52f3-4ce9-b944-171ad9f2d9dc",
   "metadata": {
    "tags": []
   },
   "outputs": [
    {
     "name": "stdout",
     "output_type": "stream",
     "text": [
      "Statevector([0.70710678+0.j, 0.70710678+0.j, 0.        +0.j,\n",
      "             0.        +0.j, 0.        +0.j, 0.        +0.j,\n",
      "             0.        +0.j, 0.        +0.j, 0.        +0.j,\n",
      "             0.        +0.j, 0.        +0.j, 0.        +0.j,\n",
      "             0.        +0.j, 0.        +0.j, 0.        +0.j,\n",
      "             0.        +0.j, 0.        +0.j, 0.        +0.j,\n",
      "             0.        +0.j, 0.        +0.j, 0.        +0.j,\n",
      "             0.        +0.j, 0.        +0.j, 0.        +0.j,\n",
      "             0.        +0.j, 0.        +0.j, 0.        +0.j,\n",
      "             0.        +0.j, 0.        +0.j, 0.        +0.j,\n",
      "             0.        +0.j, 0.        +0.j, 0.        +0.j,\n",
      "             0.        +0.j, 0.        +0.j, 0.        +0.j,\n",
      "             0.        +0.j, 0.        +0.j, 0.        +0.j,\n",
      "             0.        +0.j, 0.        +0.j, 0.        +0.j,\n",
      "             0.        +0.j, 0.        +0.j, 0.        +0.j,\n",
      "             0.        +0.j, 0.        +0.j, 0.        +0.j,\n",
      "             0.        +0.j, 0.        +0.j, 0.        +0.j,\n",
      "             0.        +0.j, 0.        +0.j, 0.        +0.j,\n",
      "             0.        +0.j, 0.        +0.j, 0.        +0.j,\n",
      "             0.        +0.j, 0.        +0.j, 0.        +0.j,\n",
      "             0.        +0.j, 0.        +0.j, 0.        +0.j,\n",
      "             0.        +0.j],\n",
      "            dims=(2, 2, 2, 2, 2, 2))\n"
     ]
    }
   ],
   "source": [
    "print(statevector)"
   ]
  },
  {
   "cell_type": "code",
   "execution_count": 59,
   "id": "cb95f936-d6ca-4b70-8ab4-586c07d5f377",
   "metadata": {
    "tags": []
   },
   "outputs": [
    {
     "data": {
      "text/plain": [
       "<qiskit.circuit.instructionset.InstructionSet at 0x7fa370189f00>"
      ]
     },
     "execution_count": 59,
     "metadata": {},
     "output_type": "execute_result"
    }
   ],
   "source": [
    "circuit.h(1)"
   ]
  },
  {
   "cell_type": "code",
   "execution_count": 60,
   "id": "495308d4-da4f-43d4-bfc2-46184c31fe7b",
   "metadata": {
    "tags": []
   },
   "outputs": [
    {
     "data": {
      "text/plain": [
       "<qiskit.circuit.instructionset.InstructionSet at 0x7fa370189f60>"
      ]
     },
     "execution_count": 60,
     "metadata": {},
     "output_type": "execute_result"
    }
   ],
   "source": [
    "circuit.h(2)\n",
    "circuit.h(3)\n",
    "circuit.h(4)\n",
    "circuit.h(5)"
   ]
  },
  {
   "cell_type": "code",
   "execution_count": 61,
   "id": "46a04268-31f0-4b8f-a1f6-1e764588f10e",
   "metadata": {
    "tags": []
   },
   "outputs": [
    {
     "data": {
      "text/plain": [
       "<qiskit.circuit.instructionset.InstructionSet at 0x7fa370529b10>"
      ]
     },
     "execution_count": 61,
     "metadata": {},
     "output_type": "execute_result"
    }
   ],
   "source": [
    "circuit.barrier()"
   ]
  },
  {
   "cell_type": "code",
   "execution_count": 62,
   "id": "2f12c2cb-02db-4d56-ba8f-d09ba5a96c80",
   "metadata": {
    "tags": []
   },
   "outputs": [
    {
     "data": {
      "image/png": "[encoded data removed]",
      "text/plain": [
       "<Figure size 305.929x618.722 with 1 Axes>"
      ]
     },
     "execution_count": 62,
     "metadata": {},
     "output_type": "execute_result"
    }
   ],
   "source": [
    "circuit.draw(output='mpl')"
   ]
  },
  {
   "cell_type": "code",
   "execution_count": 63,
   "id": "16934baa-12e1-46ec-9823-c38d55ae6f4c",
   "metadata": {
    "tags": []
   },
   "outputs": [
    {
     "data": {
      "text/plain": [
       "<qiskit.circuit.instructionset.InstructionSet at 0x7fa36bd0c4f0>"
      ]
     },
     "execution_count": 63,
     "metadata": {},
     "output_type": "execute_result"
    }
   ],
   "source": [
    "circuit.h(0)\n"
   ]
  },
  {
   "cell_type": "code",
   "execution_count": 64,
   "id": "0d327e37-5eb7-4b53-8194-ee7f2f0f740b",
   "metadata": {
    "tags": []
   },
   "outputs": [
    {
     "data": {
      "text/plain": [
       "<qiskit.circuit.instructionset.InstructionSet at 0x7fa36bd0e7d0>"
      ]
     },
     "execution_count": 64,
     "metadata": {},
     "output_type": "execute_result"
    }
   ],
   "source": [
    "circuit.h(1)"
   ]
  },
  {
   "cell_type": "code",
   "execution_count": 65,
   "id": "8972608b-d6bd-4450-9ab8-fbe44bfdbe0f",
   "metadata": {
    "tags": []
   },
   "outputs": [
    {
     "data": {
      "text/plain": [
       "<qiskit.circuit.instructionset.InstructionSet at 0x7fa36bd0d240>"
      ]
     },
     "execution_count": 65,
     "metadata": {},
     "output_type": "execute_result"
    }
   ],
   "source": [
    "circuit.h(2)\n",
    "circuit.h(3)\n",
    "circuit.h(4)\n",
    "circuit.h(5)"
   ]
  },
  {
   "cell_type": "code",
   "execution_count": 66,
   "id": "50c3f2f3-7573-4363-9bd9-abab51544872",
   "metadata": {
    "tags": []
   },
   "outputs": [
    {
     "data": {
      "image/png": "[encoded data removed]",
      "text/plain": [
       "<Figure size 389.54x618.722 with 1 Axes>"
      ]
     },
     "execution_count": 66,
     "metadata": {},
     "output_type": "execute_result"
    }
   ],
   "source": [
    "circuit.draw(output='mpl')"
   ]
  },
  {
   "cell_type": "code",
   "execution_count": 67,
   "id": "ade62b8d-280a-413f-a5a2-7c7d36057a0e",
   "metadata": {
    "tags": []
   },
   "outputs": [
    {
     "data": {
      "text/plain": [
       "<qiskit.circuit.instructionset.InstructionSet at 0x7fa36bb94880>"
      ]
     },
     "execution_count": 67,
     "metadata": {},
     "output_type": "execute_result"
    }
   ],
   "source": [
    "circuit.measure([0,1,2,3,4,5],[0,1,2,3,4,5])"
   ]
  },
  {
   "cell_type": "code",
   "execution_count": 68,
   "id": "53051b81-a6e9-43e0-b71c-70acb27306ae",
   "metadata": {
    "tags": []
   },
   "outputs": [
    {
     "data": {
      "image/png": "[encoded data removed]",
      "text/plain": [
       "<Figure size 891.207x618.722 with 1 Axes>"
      ]
     },
     "execution_count": 68,
     "metadata": {},
     "output_type": "execute_result"
    }
   ],
   "source": [
    "circuit.draw(output='mpl')"
   ]
  },
  {
   "cell_type": "code",
   "execution_count": null,
   "id": "0882c1b2-ff18-4d0b-b3f1-a777ba0df292",
   "metadata": {},
   "outputs": [],
   "source": []
  }
 ],
 "metadata": {
  "kernelspec": {
   "display_name": "Python 3 (ipykernel)",
   "language": "python",
   "name": "python3"
  },
  "language_info": {
   "codemirror_mode": {
    "name": "ipython",
    "version": 3
   },
   "file_extension": ".py",
   "mimetype": "text/x-python",
   "name": "python",
   "nbconvert_exporter": "python",
   "pygments_lexer": "ipython3",
   "version": "3.10.8"
  },
  "widgets": {
   "application/vnd.jupyter.widget-state+json": {
    "state": {},
    "version_major": 2,
    "version_minor": 0
   }
  }
 },
 "nbformat": 4,
 "nbformat_minor": 5
}
